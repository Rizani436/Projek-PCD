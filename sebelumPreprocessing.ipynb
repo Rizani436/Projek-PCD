{
 "cells": [
  {
   "cell_type": "code",
   "execution_count": 146,
   "metadata": {},
   "outputs": [],
   "source": [
    "import cv2 as cv\n",
    "import numpy as np\n",
    "import matplotlib.pyplot as plt\n",
    "import pandas as pd\n",
    "import seaborn as sns\n",
    "import os\n",
    "import math\n",
    "from tqdm import tqdm\n",
    "from sklearn.decomposition import PCA\n",
    "from sklearn.preprocessing import StandardScaler\n",
    "from sklearn.metrics import confusion_matrix\n",
    "from sklearn.model_selection import train_test_split\n",
    "from sklearn.neighbors import KNeighborsClassifier\n",
    "from sklearn.svm import SVC\n",
    "from sklearn.ensemble import RandomForestClassifier\n",
    "from sklearn.metrics import accuracy_score, precision_score, recall_score, f1_score"
   ]
  },
  {
   "cell_type": "code",
   "execution_count": 147,
   "metadata": {},
   "outputs": [],
   "source": [
    "def display(gambar, titel,rows,columns):\n",
    "    fig = plt.figure(figsize=(3*columns, rows*2)) \n",
    "    for i in range(rows*columns):\n",
    "        fig.add_subplot(rows,columns, i+1) \n",
    "        plt.imshow(gambar[i], cmap='gray')\n",
    "        plt.axis('off') \n",
    "        plt.title(titel[i])"
   ]
  },
  {
   "cell_type": "code",
   "execution_count": 148,
   "metadata": {},
   "outputs": [],
   "source": [
    "def insertGambar(folder,banyakGambar):\n",
    "    data = []\n",
    "    filenames = []\n",
    "    datalabel = [] \n",
    "    path = []\n",
    "    for label in tqdm((os.listdir(folder))):\n",
    "        datalabel.append(label)\n",
    "        i=0\n",
    "        for filename in (os.listdir(folder+label)):\n",
    "            img = plt.imread(os.path.join(folder+label,filename))\n",
    "            if img is not None:\n",
    "                filenames.append(filename)\n",
    "                path.append(label)\n",
    "                data.append(img)\n",
    "                i+=1\n",
    "            if i==banyakGambar:\n",
    "                break\n",
    "    print(datalabel)\n",
    "    return data, filenames, datalabel, path"
   ]
  },
  {
   "cell_type": "code",
   "execution_count": 149,
   "metadata": {},
   "outputs": [
    {
     "name": "stderr",
     "output_type": "stream",
     "text": [
      "100%|██████████| 4/4 [00:02<00:00,  1.72it/s]"
     ]
    },
    {
     "name": "stdout",
     "output_type": "stream",
     "text": [
      "['Blight', 'Common_Rust', 'Gray_Leaf_Spot', 'Healthy']\n"
     ]
    },
    {
     "name": "stderr",
     "output_type": "stream",
     "text": [
      "\n"
     ]
    }
   ],
   "source": [
    "n = 100\n",
    "data, filenames,label, path = insertGambar(\"data/\",n) "
   ]
  },
  {
   "cell_type": "code",
   "execution_count": 150,
   "metadata": {},
   "outputs": [],
   "source": [
    "def resizeImage(data, ukuran):\n",
    "    resizeData = []\n",
    "    for img in data:\n",
    "        resized_img = cv.resize(img, (ukuran, ukuran))\n",
    "        resizeData.append(resized_img)    \n",
    "    return resizeData"
   ]
  },
  {
   "cell_type": "code",
   "execution_count": 151,
   "metadata": {},
   "outputs": [],
   "source": [
    "data = resizeImage(data, 150)"
   ]
  },
  {
   "cell_type": "code",
   "execution_count": 152,
   "metadata": {},
   "outputs": [],
   "source": [
    "def grayscale(data):\n",
    "    grayData = []\n",
    "    for img in data:\n",
    "        gray = cv.cvtColor(img, cv.COLOR_BGR2GRAY)\n",
    "        grayData.append(gray)\n",
    "    return grayData"
   ]
  },
  {
   "cell_type": "code",
   "execution_count": 153,
   "metadata": {},
   "outputs": [],
   "source": [
    "preprocessing1 = grayscale(data)"
   ]
  },
  {
   "cell_type": "code",
   "execution_count": 154,
   "metadata": {},
   "outputs": [],
   "source": [
    "def rotasi (image, derajat):\n",
    "    rotasi = image.copy()\n",
    "    sudut= np.deg2rad(derajat)\n",
    "    cos=np.cos(sudut)\n",
    "    sin=np.sin(sudut)\n",
    "    heighttengah = int((image.shape[1]-1)/2)\n",
    "    widthtengah = int((image.shape[0]-1)/2)\n",
    "    for i in range (rotasi.shape[0]):\n",
    "        for j in range (rotasi.shape[1]):\n",
    "            x=(i-heighttengah)*cos+(j-widthtengah)*sin\n",
    "            y=-(i-heighttengah)*sin+(j-widthtengah)*cos\n",
    "            x = int(x + heighttengah)\n",
    "            y = int(y + widthtengah)\n",
    "            if x>=0 and y>=0 and x<rotasi.shape[0] and y<rotasi.shape[1] :\n",
    "                rotasi[i][j]= image[x][y]\n",
    "    return rotasi"
   ]
  },
  {
   "cell_type": "code",
   "execution_count": 155,
   "metadata": {},
   "outputs": [],
   "source": [
    "def augmentasi(data, filenames, path, banyakData):\n",
    "    augmented_data = []\n",
    "    augmented_filenames = []\n",
    "    augmented_path = []\n",
    "    for i in tqdm(range(len(data))):\n",
    "        augmented_data.append(data[i])\n",
    "        augmented_path.append(path[i])\n",
    "        augmented_filenames.append(filenames[i])\n",
    "        for j in range(banyakData):\n",
    "            if j % 3 == 0:\n",
    "                augmented_data.append(rotasi(data[i], 90))\n",
    "                augmented_filenames.append(filenames[i])\n",
    "                augmented_path.append(path[i])\n",
    "            elif j % 3 == 1:\n",
    "                augmented_data.append(rotasi(data[i], 180))\n",
    "                augmented_filenames.append(filenames[i])\n",
    "                augmented_path.append(path[i])\n",
    "            elif j % 3 == 2:\n",
    "                augmented_data.append(rotasi(data[i], 240))\n",
    "                augmented_filenames.append(filenames[i])\n",
    "                augmented_path.append(path[i])\n",
    "    return augmented_data, augmented_filenames, augmented_path"
   ]
  },
  {
   "cell_type": "code",
   "execution_count": 156,
   "metadata": {},
   "outputs": [],
   "source": [
    "# augmented_data, augmented_filenames, path = augmentasi(preprocessing1, filenames, path, 3)"
   ]
  },
  {
   "cell_type": "code",
   "execution_count": 157,
   "metadata": {},
   "outputs": [],
   "source": [
    "def matriksTransformasi(matriks):\n",
    "    hasil = np.zeros(matriks.shape)\n",
    "    for i in range(matriks.shape[0]):\n",
    "        for j in range(matriks.shape[1]):\n",
    "            hasil[i][j] = matriks[j][i]\n",
    "    return hasil\n",
    "def sum(matriks):\n",
    "    hasil = 0\n",
    "    for i in range(len(matriks)):\n",
    "        for j in range(len(matriks[0])):\n",
    "            hasil += matriks[i][j]\n",
    "    return hasil"
   ]
  },
  {
   "cell_type": "code",
   "execution_count": 158,
   "metadata": {},
   "outputs": [],
   "source": [
    "def derajat(img, derajat):\n",
    "    max = int(np.max(img))\n",
    "    temp=np.zeros([max+1,max+1])\n",
    "    if derajat == 0:\n",
    "        for i in range (len(img)):\n",
    "            for j in range (len(img[0])-1):\n",
    "                temp[img[i,j],img[i,j+1]] += 1\n",
    "    elif derajat == 45:\n",
    "        for i in range (len (img)-1):\n",
    "            for j in range (len (img[0])-1):\n",
    "                temp[img[i+1,j],img[i,j+1]] += 1\n",
    "    elif derajat == 90:\n",
    "        for i in range (len (img)-1):\n",
    "            for j in range (len (img[0])):\n",
    "                temp[img[i+1,j],img[i,j]] += 1\n",
    "    elif derajat == 135:\n",
    "        for i in range (len (img)-1):\n",
    "            for j in range (len (img[0])-1):\n",
    "                temp[img[i,j],img[i+1,j+1]] += 1\n",
    "    hasil = temp+matriksTransformasi(temp)\n",
    "    total = sum(hasil)\n",
    "    for i in range (len (hasil)):\n",
    "        for j in range (len (hasil)):\n",
    "            hasil[i,j]/=total\n",
    "    return hasil"
   ]
  },
  {
   "cell_type": "code",
   "execution_count": 159,
   "metadata": {},
   "outputs": [],
   "source": [
    "def GLCM(image):\n",
    "    hasil = []\n",
    "    for img in tqdm(image):\n",
    "        if np.min(img) < 0:\n",
    "            continue\n",
    "        data = []\n",
    "        data.append(derajat(img,0))\n",
    "        data.append(derajat(img,45))\n",
    "        data.append(derajat(img,90))\n",
    "        data.append(derajat(img,135))\n",
    "        hasil.append(data)    \n",
    "    return hasil "
   ]
  },
  {
   "cell_type": "code",
   "execution_count": 160,
   "metadata": {},
   "outputs": [
    {
     "name": "stdout",
     "output_type": "stream",
     "text": [
      "Corn_Common_Rust (1290).jpg\n"
     ]
    }
   ],
   "source": [
    "print(filenames[123])"
   ]
  },
  {
   "cell_type": "code",
   "execution_count": 161,
   "metadata": {},
   "outputs": [
    {
     "name": "stderr",
     "output_type": "stream",
     "text": [
      "100%|██████████| 400/400 [00:56<00:00,  7.07it/s]\n"
     ]
    }
   ],
   "source": [
    "hasilGLCM = GLCM(preprocessing1)"
   ]
  },
  {
   "cell_type": "code",
   "execution_count": 162,
   "metadata": {},
   "outputs": [],
   "source": [
    "def contrast (data):\n",
    "    hasil = 0\n",
    "    for i in range(len(data)):\n",
    "        for j in range(len(data[0])):\n",
    "            hasil+=data[i,j]*pow(i-j,2)\n",
    "    return hasil\n",
    "def dissimilarity(data):  \n",
    "    hasil = 0\n",
    "    for i in range(len(data)):\n",
    "        for j in range(len(data[0])):\n",
    "            hasil+=data[i,j]*abs(i-j)\n",
    "    return hasil\n",
    "def homogeneity(data):\n",
    "    hasil = 0\n",
    "    for i in range(len(data)):\n",
    "        for j in range(len(data[0])):\n",
    "            hasil+=(data[i,j]/(1+pow(i-j,2)))\n",
    "    return hasil\n",
    "def energy(data):\n",
    "    hasil = 0\n",
    "    for i in range(len(data)):\n",
    "        for j in range(len(data[0])):\n",
    "            hasil += data[i][j] ** 2\n",
    "    return hasil\n",
    "def correlation(data):\n",
    "    mean = np.zeros((2))\n",
    "    std = np.zeros((2))\n",
    "    for i in range(len(data)):\n",
    "        for j in range(len(data[0])):\n",
    "            mean[0] += i*data[i,j]\n",
    "            mean[1] += j*data[i,j]\n",
    "    for i in range(len(data)):\n",
    "        for j in range(len(data[0])):\n",
    "            std[0] += pow(i-mean[0],2)*data[i,j]\n",
    "            std[1] += pow(j-mean[1],2)*data[i,j]\n",
    "    std[0] = math.sqrt(std[0])\n",
    "    std[1] = math.sqrt(std[1])\n",
    "    hasil = 0\n",
    "    for i in range(len(data)):\n",
    "        for j in range(len(data[0])):\n",
    "            hasil += (i-mean[0])*(j-mean[1])*data[i,j]/(std[0]*std[1])\n",
    "    return hasil\n",
    "def entropy(data):\n",
    "    entropy = 0\n",
    "    for i in range(len(data)):\n",
    "        for j in range(len(data[0])):\n",
    "            if data[i][j] > 0.0:\n",
    "                entropy += -(data[i][j] * math.log(data[i][j]))\n",
    "    return entropy\n",
    "def asm(data):\n",
    "    asm = 0\n",
    "    for i in range(len(data)):\n",
    "        for j in range(len(data[0])):\n",
    "            asm += data[i][j] ** 2\n",
    "    return asm"
   ]
  },
  {
   "cell_type": "code",
   "execution_count": 163,
   "metadata": {},
   "outputs": [],
   "source": [
    "def ekstraksi(data):\n",
    "    result = []\n",
    "    for i in tqdm(range(len(data))):\n",
    "        extracted_data = []\n",
    "        for j in range(len(data[i])):\n",
    "            contrast_val = contrast(data[i][j])\n",
    "            extracted_data.append(contrast_val)\n",
    "        for j in range(len(data[i])):\n",
    "            dissimilarity_val = dissimilarity(data[i][j])\n",
    "            extracted_data.append(dissimilarity_val)\n",
    "        for j in range(len(data[i])):\n",
    "            homogeneity_val = homogeneity(data[i][j])\n",
    "            extracted_data.append(homogeneity_val)\n",
    "        for j in range(len(data[i])):\n",
    "            energy_val = energy(data[i][j])\n",
    "            extracted_data.append(energy_val)\n",
    "        for j in range(len(data[i])):\n",
    "            correlation_val = correlation(data[i][j])\n",
    "            extracted_data.append(correlation_val)\n",
    "        for j in range(len(data[i])):\n",
    "                asm_val = asm(data[i][j])\n",
    "                extracted_data.append(asm_val)\n",
    "                entropy_val = entropy(data[i][j])\n",
    "                extracted_data.append(entropy_val)\n",
    "        result.append(extracted_data)\n",
    "    return result"
   ]
  },
  {
   "cell_type": "code",
   "execution_count": 164,
   "metadata": {},
   "outputs": [
    {
     "name": "stderr",
     "output_type": "stream",
     "text": [
      "  0%|          | 0/400 [00:00<?, ?it/s]"
     ]
    },
    {
     "name": "stderr",
     "output_type": "stream",
     "text": [
      "100%|██████████| 400/400 [04:09<00:00,  1.61it/s]\n"
     ]
    }
   ],
   "source": [
    "hasilEkstraksi = ekstraksi(hasilGLCM)"
   ]
  },
  {
   "cell_type": "code",
   "execution_count": 165,
   "metadata": {},
   "outputs": [],
   "source": [
    "hasilEkstraksiSimpan = hasilEkstraksi"
   ]
  },
  {
   "cell_type": "code",
   "execution_count": 166,
   "metadata": {},
   "outputs": [],
   "source": [
    "for i in range (len(hasilEkstraksi)):\n",
    "    hasilEkstraksi[i].append(path[i])"
   ]
  },
  {
   "cell_type": "code",
   "execution_count": 167,
   "metadata": {},
   "outputs": [],
   "source": [
    "angles = ['0', '45', '90', '135']\n",
    "fiturs = ['contrast', 'dissimilarity', 'homogeneity', 'energy', 'correlation']\n",
    "headers = []\n",
    "for fitur in fiturs:\n",
    "    headers.extend([f'{fitur}_0', f'{fitur}_45', f'{fitur}_90', f'{fitur}_135'])\n",
    "for angle in angles:\n",
    "    headers.extend([f'asm_{angle}', f'entropy_{angle}'])\n",
    "headers.append('Path')\n",
    "df = pd.DataFrame(hasilEkstraksi, columns=headers)\n",
    "df.to_csv('sebelumPreprocessing.csv', index=False)"
   ]
  },
  {
   "cell_type": "code",
   "execution_count": 168,
   "metadata": {},
   "outputs": [
    {
     "data": {
      "text/html": [
       "<div>\n",
       "<style scoped>\n",
       "    .dataframe tbody tr th:only-of-type {\n",
       "        vertical-align: middle;\n",
       "    }\n",
       "\n",
       "    .dataframe tbody tr th {\n",
       "        vertical-align: top;\n",
       "    }\n",
       "\n",
       "    .dataframe thead th {\n",
       "        text-align: right;\n",
       "    }\n",
       "</style>\n",
       "<table border=\"1\" class=\"dataframe\">\n",
       "  <thead>\n",
       "    <tr style=\"text-align: right;\">\n",
       "      <th></th>\n",
       "      <th>contrast_0</th>\n",
       "      <th>contrast_45</th>\n",
       "      <th>contrast_90</th>\n",
       "      <th>contrast_135</th>\n",
       "      <th>dissimilarity_0</th>\n",
       "      <th>dissimilarity_45</th>\n",
       "      <th>dissimilarity_90</th>\n",
       "      <th>dissimilarity_135</th>\n",
       "      <th>homogeneity_0</th>\n",
       "      <th>homogeneity_45</th>\n",
       "      <th>...</th>\n",
       "      <th>correlation_135</th>\n",
       "      <th>asm_0</th>\n",
       "      <th>entropy_0</th>\n",
       "      <th>asm_45</th>\n",
       "      <th>entropy_45</th>\n",
       "      <th>asm_90</th>\n",
       "      <th>entropy_90</th>\n",
       "      <th>asm_135</th>\n",
       "      <th>entropy_135</th>\n",
       "      <th>Path</th>\n",
       "    </tr>\n",
       "  </thead>\n",
       "  <tbody>\n",
       "    <tr>\n",
       "      <th>0</th>\n",
       "      <td>485.037763</td>\n",
       "      <td>518.396514</td>\n",
       "      <td>330.462819</td>\n",
       "      <td>519.208369</td>\n",
       "      <td>15.308904</td>\n",
       "      <td>15.992928</td>\n",
       "      <td>12.641521</td>\n",
       "      <td>16.006892</td>\n",
       "      <td>0.098923</td>\n",
       "      <td>0.088366</td>\n",
       "      <td>...</td>\n",
       "      <td>0.836111</td>\n",
       "      <td>0.000180</td>\n",
       "      <td>9.045917</td>\n",
       "      <td>0.000169</td>\n",
       "      <td>9.085644</td>\n",
       "      <td>0.000205</td>\n",
       "      <td>8.915672</td>\n",
       "      <td>0.000167</td>\n",
       "      <td>9.091573</td>\n",
       "      <td>Blight</td>\n",
       "    </tr>\n",
       "    <tr>\n",
       "      <th>1</th>\n",
       "      <td>143.039821</td>\n",
       "      <td>139.927210</td>\n",
       "      <td>111.398971</td>\n",
       "      <td>189.074411</td>\n",
       "      <td>7.055213</td>\n",
       "      <td>7.228683</td>\n",
       "      <td>6.380716</td>\n",
       "      <td>8.388046</td>\n",
       "      <td>0.261784</td>\n",
       "      <td>0.210653</td>\n",
       "      <td>...</td>\n",
       "      <td>0.851611</td>\n",
       "      <td>0.000750</td>\n",
       "      <td>7.867193</td>\n",
       "      <td>0.000594</td>\n",
       "      <td>7.956502</td>\n",
       "      <td>0.000657</td>\n",
       "      <td>7.851935</td>\n",
       "      <td>0.000549</td>\n",
       "      <td>8.059850</td>\n",
       "      <td>Blight</td>\n",
       "    </tr>\n",
       "    <tr>\n",
       "      <th>2</th>\n",
       "      <td>137.245772</td>\n",
       "      <td>108.642449</td>\n",
       "      <td>131.216107</td>\n",
       "      <td>201.383181</td>\n",
       "      <td>6.735526</td>\n",
       "      <td>6.429485</td>\n",
       "      <td>6.799105</td>\n",
       "      <td>8.313950</td>\n",
       "      <td>0.268169</td>\n",
       "      <td>0.221547</td>\n",
       "      <td>...</td>\n",
       "      <td>0.763285</td>\n",
       "      <td>0.001207</td>\n",
       "      <td>7.582689</td>\n",
       "      <td>0.000985</td>\n",
       "      <td>7.627662</td>\n",
       "      <td>0.001045</td>\n",
       "      <td>7.636607</td>\n",
       "      <td>0.000905</td>\n",
       "      <td>7.772802</td>\n",
       "      <td>Blight</td>\n",
       "    </tr>\n",
       "    <tr>\n",
       "      <th>3</th>\n",
       "      <td>126.541029</td>\n",
       "      <td>159.534390</td>\n",
       "      <td>65.367875</td>\n",
       "      <td>130.441151</td>\n",
       "      <td>6.676600</td>\n",
       "      <td>7.663844</td>\n",
       "      <td>4.918121</td>\n",
       "      <td>6.988334</td>\n",
       "      <td>0.260508</td>\n",
       "      <td>0.205324</td>\n",
       "      <td>...</td>\n",
       "      <td>0.897185</td>\n",
       "      <td>0.001299</td>\n",
       "      <td>7.638462</td>\n",
       "      <td>0.000948</td>\n",
       "      <td>7.809502</td>\n",
       "      <td>0.001185</td>\n",
       "      <td>7.498465</td>\n",
       "      <td>0.000976</td>\n",
       "      <td>7.754421</td>\n",
       "      <td>Blight</td>\n",
       "    </tr>\n",
       "    <tr>\n",
       "      <th>4</th>\n",
       "      <td>260.908904</td>\n",
       "      <td>257.452998</td>\n",
       "      <td>96.490962</td>\n",
       "      <td>287.246025</td>\n",
       "      <td>11.851812</td>\n",
       "      <td>11.795685</td>\n",
       "      <td>6.877808</td>\n",
       "      <td>12.525607</td>\n",
       "      <td>0.110849</td>\n",
       "      <td>0.101491</td>\n",
       "      <td>...</td>\n",
       "      <td>0.885958</td>\n",
       "      <td>0.000198</td>\n",
       "      <td>8.826674</td>\n",
       "      <td>0.000192</td>\n",
       "      <td>8.835696</td>\n",
       "      <td>0.000306</td>\n",
       "      <td>8.398882</td>\n",
       "      <td>0.000183</td>\n",
       "      <td>8.882473</td>\n",
       "      <td>Blight</td>\n",
       "    </tr>\n",
       "  </tbody>\n",
       "</table>\n",
       "<p>5 rows × 29 columns</p>\n",
       "</div>"
      ],
      "text/plain": [
       "   contrast_0  contrast_45  contrast_90  contrast_135  dissimilarity_0  \\\n",
       "0  485.037763   518.396514   330.462819    519.208369        15.308904   \n",
       "1  143.039821   139.927210   111.398971    189.074411         7.055213   \n",
       "2  137.245772   108.642449   131.216107    201.383181         6.735526   \n",
       "3  126.541029   159.534390    65.367875    130.441151         6.676600   \n",
       "4  260.908904   257.452998    96.490962    287.246025        11.851812   \n",
       "\n",
       "   dissimilarity_45  dissimilarity_90  dissimilarity_135  homogeneity_0  \\\n",
       "0         15.992928         12.641521          16.006892       0.098923   \n",
       "1          7.228683          6.380716           8.388046       0.261784   \n",
       "2          6.429485          6.799105           8.313950       0.268169   \n",
       "3          7.663844          4.918121           6.988334       0.260508   \n",
       "4         11.795685          6.877808          12.525607       0.110849   \n",
       "\n",
       "   homogeneity_45  ...  correlation_135     asm_0  entropy_0    asm_45  \\\n",
       "0        0.088366  ...         0.836111  0.000180   9.045917  0.000169   \n",
       "1        0.210653  ...         0.851611  0.000750   7.867193  0.000594   \n",
       "2        0.221547  ...         0.763285  0.001207   7.582689  0.000985   \n",
       "3        0.205324  ...         0.897185  0.001299   7.638462  0.000948   \n",
       "4        0.101491  ...         0.885958  0.000198   8.826674  0.000192   \n",
       "\n",
       "   entropy_45    asm_90  entropy_90   asm_135  entropy_135    Path  \n",
       "0    9.085644  0.000205    8.915672  0.000167     9.091573  Blight  \n",
       "1    7.956502  0.000657    7.851935  0.000549     8.059850  Blight  \n",
       "2    7.627662  0.001045    7.636607  0.000905     7.772802  Blight  \n",
       "3    7.809502  0.001185    7.498465  0.000976     7.754421  Blight  \n",
       "4    8.835696  0.000306    8.398882  0.000183     8.882473  Blight  \n",
       "\n",
       "[5 rows x 29 columns]"
      ]
     },
     "execution_count": 168,
     "metadata": {},
     "output_type": "execute_result"
    }
   ],
   "source": [
    "df.head()"
   ]
  },
  {
   "cell_type": "code",
   "execution_count": 169,
   "metadata": {},
   "outputs": [],
   "source": [
    "df = pd.read_csv('sebelumPreprocessing.csv')\n",
    "x = df.drop('Path', axis=1)\n",
    "y = df['Path']"
   ]
  },
  {
   "cell_type": "code",
   "execution_count": 170,
   "metadata": {},
   "outputs": [],
   "source": [
    "xTrain, xTest, yTrain, yTest = train_test_split(x, y, test_size=0.3, random_state=42)"
   ]
  },
  {
   "cell_type": "code",
   "execution_count": 171,
   "metadata": {},
   "outputs": [],
   "source": [
    "scaler = StandardScaler()\n",
    "xTrain = scaler.fit_transform(xTrain)\n",
    "xTest = scaler.transform(xTest)"
   ]
  },
  {
   "cell_type": "code",
   "execution_count": 172,
   "metadata": {},
   "outputs": [
    {
     "name": "stdout",
     "output_type": "stream",
     "text": [
      "           Model  Accuracy  Precision    Recall  F1-Score\n",
      "0            KNN  0.616667   0.651244  0.616667  0.624228\n",
      "1            SVM  0.666667   0.685959  0.666667  0.668659\n",
      "2  Random Forest  0.666667   0.687834  0.666667  0.667927\n"
     ]
    }
   ],
   "source": [
    "knn = KNeighborsClassifier()\n",
    "svm = SVC()\n",
    "rf = RandomForestClassifier()\n",
    "\n",
    "knn.fit(xTrain, yTrain)\n",
    "svm.fit(xTrain, yTrain)\n",
    "rf.fit(xTrain, yTrain)\n",
    "\n",
    "yPredKnn = knn.predict(xTest)\n",
    "yPredSvm = svm.predict(xTest)\n",
    "yPredRf = rf.predict(xTest)\n",
    "\n",
    "acc_knn = accuracy_score(yTest, yPredKnn)\n",
    "precision_knn = precision_score(yTest, yPredKnn, average='weighted')\n",
    "recall_knn = recall_score(yTest, yPredKnn, average='weighted')\n",
    "f1_knn = f1_score(yTest, yPredKnn, average='weighted')\n",
    "\n",
    "acc_svm = accuracy_score(yTest, yPredSvm)\n",
    "precision_svm = precision_score(yTest, yPredSvm, average='weighted')\n",
    "recall_svm = recall_score(yTest, yPredSvm, average='weighted')\n",
    "f1_svm = f1_score(yTest, yPredSvm, average='weighted')\n",
    "\n",
    "acc_rf = accuracy_score(yTest, yPredRf)\n",
    "precision_rf = precision_score(yTest, yPredRf, average='weighted')\n",
    "recall_rf = recall_score(yTest, yPredRf, average='weighted')\n",
    "f1_rf = f1_score(yTest, yPredRf, average='weighted')\n",
    "\n",
    "hasil = pd.DataFrame()\n",
    "hasil['Model'] = ['KNN', 'SVM', 'Random Forest']\n",
    "hasil['Accuracy'] = [acc_knn, acc_svm, acc_rf]\n",
    "hasil['Precision'] = [precision_knn, precision_svm, precision_rf]\n",
    "hasil['Recall'] = [recall_knn, recall_svm, recall_rf]\n",
    "hasil['F1-Score'] = [f1_knn, f1_svm, f1_rf]\n",
    "print(hasil)\n",
    "\n"
   ]
  }
 ],
 "metadata": {
  "kernelspec": {
   "display_name": "Python 3",
   "language": "python",
   "name": "python3"
  },
  "language_info": {
   "codemirror_mode": {
    "name": "ipython",
    "version": 3
   },
   "file_extension": ".py",
   "mimetype": "text/x-python",
   "name": "python",
   "nbconvert_exporter": "python",
   "pygments_lexer": "ipython3",
   "version": "3.12.4"
  }
 },
 "nbformat": 4,
 "nbformat_minor": 2
}
